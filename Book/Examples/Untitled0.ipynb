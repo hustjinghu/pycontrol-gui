{
 "metadata": {
  "name": "",
  "signature": "sha256:a6b1cd89eeb0bf93dd62197c54c2cefa5fb2082ae388a0967a829384e579995e"
 },
 "nbformat": 3,
 "nbformat_minor": 0,
 "worksheets": []
}